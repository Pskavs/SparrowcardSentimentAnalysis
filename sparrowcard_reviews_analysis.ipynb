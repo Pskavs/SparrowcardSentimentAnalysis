{
 "cells": [
  {
   "metadata": {},
   "cell_type": "markdown",
   "source": [
    "# Sparrow Card Reviews: Insights & Analysis on Customer Feedback\n",
    "---"
   ],
   "id": "a94c3010116332a1"
  },
  {
   "metadata": {},
   "cell_type": "markdown",
   "source": [
    "## Introduction:\n",
    "- Sparrow is a financial tech company with a mission to empower the underserved and overlooked in our communities by removing financial barriers that come from less than stellar credit. Their goal is to help guide customers to financial freedom. Sparrow Card is a type of Mastercard that can be used to build up credit.\n",
    "- Purpose: To look at reviews in order to better understand user sentiments and word choices. These can be used in order to track customer satisfaction over time, and come up with possible solutions to client dilemmas.\n",
    "---"
   ],
   "id": "d533e4abe0e4aac6"
  },
  {
   "metadata": {},
   "cell_type": "markdown",
   "source": [
    "## Data Importing and Processing\n",
    "- Data was collecting through web-scraping customer reviews from Credit Karma. Future data collection will happen through Google API requests. I first used Selenium to log into Credit Karma. From there I navigated to each of the pages and downloaded the source html file. After, I used beautiful soup to scrape the reviews from the txt files. (See sparrow_reviews_ck and then bs_scrape_reviews.py)\n",
    "- I've only used the reviews from Credit Karma, but future analysis will be done with reviews from multiple sources.\n",
    "---"
   ],
   "id": "aab60171b42b94d5"
  },
  {
   "metadata": {},
   "cell_type": "markdown",
   "source": [
    "## Exploratory Data Analysis (EDA):\n",
    "In order to tackle this problem, I used the following strategies (In the sparrow_sentiment_analysis.py file):\n",
    "1) First, I call the function sentiment_analysis. This function uses Huggingface natural language processing to look for the positive and negative vocabulary used in reviews. From there, I create a graph to show the percent of positive language used versus the percent of negative language used.\n",
    "2) Second, I read the data in to a pandas data frame. I then called a function to count the words, making sure I removed common words such as 'and' and 'the' using a common words list. I then found the top 20 most common words across the reviews.\n",
    "---\n"
   ],
   "id": "e163d543fae1d368"
  },
  {
   "metadata": {},
   "cell_type": "markdown",
   "source": [
    "## Uncovering Key Insights from Sparrow Card Reviews\n",
    "Looking at the data showed some interesting insights:\n",
    "1) Customers love Sparrow! Over 97.5% of the words used were positive as opposed to less than 2.5% being considered negative.\n",
    "2) Customers who wrote positive reviews used words such as \"easy, good, great, app, approved\" to describe SparrowCard. Showcasing how easy the approval process and app are. Even more interesting, was the word \"chance\" that was used. It showcases how thankful customers were for a chance to be approved for Sparrowcard.\n",
    "3) Customers who wrote negative reviews (Less than 2.5% of customers) used words such as \"payments, months, and limit\", which may show that they were disappointed with the APR or their credit limit."
   ],
   "id": "2a360c25aead7c2"
  },
  {
   "metadata": {
    "ExecuteTime": {
     "end_time": "2025-02-25T05:51:58.174021Z",
     "start_time": "2025-02-25T05:51:36.747990Z"
    }
   },
   "cell_type": "code",
   "source": "%run sparrow_sentiment_analysis.py",
   "id": "790119f40872d2b6",
   "outputs": [
    {
     "name": "stderr",
     "output_type": "stream",
     "text": [
      "Device set to use cpu\n"
     ]
    },
    {
     "name": "stdout",
     "output_type": "stream",
     "text": [
      "Sentiment analysis results saved to 'sentiment_analysis.csv'.\n",
      "97.56 % Positive\n"
     ]
    },
    {
     "data": {
      "text/plain": [
       "<Figure size 600x400 with 1 Axes>"
      ],
      "image/png": "[encoded data removed]"
     },
     "metadata": {},
     "output_type": "display_data"
    },
    {
     "name": "stdout",
     "output_type": "stream",
     "text": [
      "Top 20 Keywords (Filtered) saved to 'word_counts.csv'.\n",
      "        Word  Count\n",
      "0       easy     59\n",
      "1      great     40\n",
      "2   approved     34\n",
      "3   payments     34\n",
      "4       good     33\n",
      "5        app     32\n",
      "6        got     31\n",
      "7        use     29\n",
      "8        far     28\n",
      "9    sparrow     26\n",
      "10   account     26\n",
      "11     would     25\n",
      "12     limit     22\n",
      "13   service     21\n",
      "14    months     20\n",
      "15      time     19\n",
      "16  customer     18\n",
      "17   company     18\n",
      "18   payment     17\n",
      "19    chance     15\n"
     ]
    }
   ],
   "execution_count": 1
  },
  {
   "metadata": {},
   "cell_type": "markdown",
   "source": [
    "# Conclusion & Next Steps\n",
    "This was a quick (if you define 5 hours as that!) analysis of some customer reviews. It shows very positive trends in the review data sorted by most recent.\n",
    "\n",
    "Possible future steps include:\n",
    "1) collecting data from the Google Play Store / Apple App store.\n",
    "2) looking at specific aspects of products (such as customer service, interest rates, rewards, etc)\n",
    "3) using sentiment / engagements to determine churn rates.\n",
    "4) using NLP's to detect fraudulent reviews and potentially expunge them.\n",
    "5) running comparisons on competitors to gain insight on competition and common / different pain points across cards.\n",
    "6) creating a time series model that tracks sentiment over time, and sees if there are any seasonal trends in satisfaction or complaints.\n",
    "7) add more visualization tools (such as word clouds and dashboards)\n",
    "8) automate the process so that it runs each week."
   ],
   "id": "e94dd4b9d5c40dd6"
  }
 ],
 "metadata": {
  "kernelspec": {
   "display_name": "Python 3",
   "language": "python",
   "name": "python3"
  },
  "language_info": {
   "codemirror_mode": {
    "name": "ipython",
    "version": 2
   },
   "file_extension": ".py",
   "mimetype": "text/x-python",
   "name": "python",
   "nbconvert_exporter": "python",
   "pygments_lexer": "ipython2",
   "version": "2.7.6"
  }
 },
 "nbformat": 4,
 "nbformat_minor": 5
}
